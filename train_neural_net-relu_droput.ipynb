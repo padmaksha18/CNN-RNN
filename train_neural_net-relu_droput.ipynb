{
 "cells": [
  {
   "cell_type": "code",
   "execution_count": 97,
   "metadata": {},
   "outputs": [],
   "source": [
    "import numpy as np\n",
    "import scipy\n",
    "from sklearn.metrics import precision_recall_fscore_support\n",
    "import matplotlib.pyplot as plt\n",
    "from sklearn.metrics import confusion_matrix\n",
    "\n",
    "# prepare data\n",
    "train_data_features = np.loadtxt(fname=\"train_data.txt\",dtype=float,delimiter=',', usecols = (0,1))\n",
    "train_data_target = np.loadtxt(fname=\"train_data.txt\",dtype=float,delimiter=',', usecols = 2)\n",
    "X_test = np.loadtxt(fname=\"test_data.txt\",dtype=float,delimiter=',', usecols = (0,1))\n",
    "Y_test = np.loadtxt(fname=\"test_data.txt\",dtype=float,delimiter=',', usecols = 2)\n"
   ]
  },
  {
   "cell_type": "code",
   "execution_count": 98,
   "metadata": {
    "scrolled": true
   },
   "outputs": [
    {
     "name": "stdout",
     "output_type": "stream",
     "text": [
      "layers: 4\n",
      "{'W1': matrix([[0.91732521, 0.24366282],\n",
      "        [0.22695608, 0.13566109],\n",
      "        [0.08319326, 0.03149661]]), 'W2': matrix([[0.31371914, 0.34873642, 0.31119451],\n",
      "        [0.57211365, 0.85650461, 0.95483763],\n",
      "        [0.71097728, 0.81796371, 0.95078436]]), 'W3': matrix([[0.43568707, 0.38956284, 0.79545481],\n",
      "        [0.03845922, 0.11334366, 0.54581169]])}\n"
     ]
    }
   ],
   "source": [
    "# intitalize params\n",
    "\n",
    "def init_params(dim):\n",
    "    dim = [2,3,3,2]\n",
    "    parameters = {}\n",
    "    \n",
    "    layers = len(dim)\n",
    "    print (\"layers:\",layers)\n",
    "    \n",
    "    for i in range(1,layers):\n",
    "        parameters['W' + str(i)] = np.matrix(np.random.rand(dim[i],dim[i-1]))\n",
    "    return parameters\n",
    "    \n",
    "     \n",
    "params = init_params('dim')\n",
    "print (params)\n"
   ]
  },
  {
   "cell_type": "code",
   "execution_count": 101,
   "metadata": {},
   "outputs": [],
   "source": [
    "'''def sigmoid(z):\n",
    "    s = 1/ (1 + np.exp(-z))\n",
    "    return s\n",
    "'''\n",
    "\n",
    "def relu(z):\n",
    "    if z.any() >= 0:\n",
    "        return z\n",
    "    elif z.any() <0:\n",
    "        return 0\n",
    "    \n",
    "#relu = lambda z: z if z>=0 else 0"
   ]
  },
  {
   "cell_type": "code",
   "execution_count": 102,
   "metadata": {},
   "outputs": [],
   "source": [
    "def grad_relu(s):\n",
    "    jacobian_m = np.zeros((s.shape[0], s.shape[0])) # For 3*1 vector, jacobian is 3*3 matrix\n",
    "    for i in range(len(jacobian_m)):\n",
    "        for j in range(len(jacobian_m)):    \n",
    "            if i == j:               \n",
    "                jacobian_m[i,j] = s[i] * (1 - (s[i]))\n",
    "            else:\n",
    "                jacobian_m[i,j] = 0          \n",
    "    return jacobian_m    "
   ]
  },
  {
   "cell_type": "code",
   "execution_count": 103,
   "metadata": {},
   "outputs": [],
   "source": [
    "def grad_softmax(s):\n",
    "# initialize the 2-D jacobian matrix.\n",
    "    jacobian_m = np.zeros((s.shape[0], s.shape[0])) #  For 2*1 vector, jacobian is 2*2 matrix\n",
    "    for i in range(len(jacobian_m)):\n",
    "        for j in range(len(jacobian_m)):\n",
    "            if i == j:\n",
    "                #print (\" s[i] :\",  s[i])\n",
    "                jacobian_m[i][j] = s[i] * (1-s[i])\n",
    "            else: \n",
    "                jacobian_m[i][j] = -s[i]*s[j]\n",
    "    return jacobian_m\n",
    "\n"
   ]
  },
  {
   "cell_type": "code",
   "execution_count": 104,
   "metadata": {},
   "outputs": [],
   "source": [
    "def softmax(Z3):\n",
    "    k = 0\n",
    "    for i in range(len(Z3)):\n",
    "        k += np.exp(Z3[i])\n",
    "    for i in range(len(Z3)):\n",
    "        Z3[i] = np.exp(Z3[i])/k\n",
    "    return Z3\n",
    "   "
   ]
  },
  {
   "cell_type": "code",
   "execution_count": 129,
   "metadata": {},
   "outputs": [],
   "source": [
    "def forward_prop(W1,W2,W3,train_data_features):       \n",
    "    Z1 = np.dot(W1, np.matrix(train_data_features).T)\n",
    "    # W1 = 3 * 2\n",
    "    #train_feature = 1 * 2\n",
    "    #Z1 = 3 *1\n",
    "\n",
    "    A1 = relu(Z1)\n",
    "    \n",
    "    # define a mask with same size as weight matrix \n",
    "    K2 = np.random.rand(W2.shape[0], W2.shape[1])  \n",
    "    #print (\"K2 orig:\", K2) \n",
    "    '''\n",
    "    for i,v in enumerate(K2):\n",
    "        #print (type(i))\n",
    "        #print (type(v))\n",
    "        if v.any() <=0.5:\n",
    "            K2[i] = 0\n",
    "        else:\n",
    "            K2[i] = 1\n",
    "    '''\n",
    "    #add drop outs by converting the some values of mask to zeroes to be multipled to wt matrix\n",
    "    threshold = 0.5\n",
    "    K2 = (K2 < threshold).astype(int)\n",
    "    #print (\"K2 after modify:\", K2)\n",
    "\n",
    "    \n",
    "    W2 = np.array(W2) * np.array(K2)\n",
    "    #print (\"W2 after droput:\", W2)\n",
    "    \n",
    "\n",
    "    Z2 = np.dot(W2, A1)\n",
    "    #Z2 = np.dot(W2, A1)\n",
    "    A2 = relu(Z2)\n",
    "\n",
    "    #W2 = 3 * 3\n",
    "    #A1 = 3 * 1\n",
    "    #Z2 = 3 * 1\n",
    "    #A2 = 3 * 1\n",
    "    \n",
    "    ### create a mask matrix to mask activation of A1 with drop out\n",
    "    #K2 = np.random.rand(A2.shape[0], A2.shape[1])\n",
    "    #K2 = (K2 < 0.7).astype(int)\n",
    "    #A2 = A2 * K2\n",
    "    \n",
    "    \n",
    "   \n",
    "    \n",
    "    \n",
    "\n",
    "    Z3 = np.dot(W3,A2)\n",
    "    #Z3 = np.dot(W3,A2)\n",
    "    #W3 = 2 * 3\n",
    "    #A2 = 3 * 1\n",
    "    #Z3 = 2 * 1\n",
    "\n",
    "    y_hat = softmax(Z3)\n",
    "    #y_hat = 2 * 1\n",
    "    \n",
    "    return K2,A1,A2,y_hat"
   ]
  },
  {
   "cell_type": "code",
   "execution_count": 130,
   "metadata": {},
   "outputs": [],
   "source": [
    "def optimise(K2,A1,A2,W1,W2,W3,y_hat,train_data_target,train_data_features,learning_rate):\n",
    "    \n",
    "    loss = np.sum(np.square(train_data_target - y_hat))\n",
    "\n",
    "    # train_data_features = 1 * 2\n",
    "    # y_hat = 2 * 1\n",
    "    #loss = 1 *2 \n",
    "\n",
    "    change_loss = -2 *(np.transpose(train_data_target)-y_hat)\n",
    "    #change_loss = 2 *1\n",
    "\n",
    "    delta_3 = np.dot(np.matrix(grad_softmax(y_hat)),change_loss)\n",
    "\n",
    "    #delta_3 = 2*1\n",
    "    #A2 = 3 * 1\n",
    "\n",
    "    dW3 = np.multiply (A2,delta_3.T)\n",
    "\n",
    "    #dw3 = 3 *2\n",
    "    #A2 = 3 * 1\n",
    "    #W3 = 2 * 3\n",
    "    #1* 2\n",
    "\n",
    "    delta_2 = np.dot(np.dot(grad_relu(A2),W3.T), delta_3)\n",
    "    #print (\"delta 2 orig shape:\", delta_2.shape)\n",
    "    ## (3 * 1) * (3 * 2) * (2 * 1)\n",
    "    \n",
    "    \n",
    "    # 3*1 = 3*1 1*1\n",
    "\n",
    "    dW2 = np.dot(A1, delta_2.T)\n",
    "    #Multiply with the same mask as forward prop\n",
    "    dW2 =  np.array(dW2) * np.array(K2)\n",
    "\n",
    "    delta_1 = np.dot(np.dot(grad_relu(A1),np.transpose(W2)), delta_2)\n",
    "\n",
    "    dW1 = np.dot(np.transpose(np.matrix(train_data_features)), delta_1.T)\n",
    "\n",
    "    W1 = W1 -learning_rate * np.transpose(dW1)\n",
    "    W2 = W2- learning_rate * dW2.T\n",
    "    W3 = W3 - learning_rate * dW3.T        \n",
    "    return  W1,W2,W3,loss\n",
    "    "
   ]
  },
  {
   "cell_type": "code",
   "execution_count": 131,
   "metadata": {},
   "outputs": [],
   "source": [
    "def train (train_data_features,train_data_target):\n",
    "    epochs = 50\n",
    "    learning_rate = 0.01\n",
    "    loss_list =[]\n",
    "    W1 = params['W1']\n",
    "    W2 = params['W2']\n",
    "    W3 = params['W3']\n",
    "\n",
    "    for i in range(1,epochs):\n",
    "        for j in range(len(train_data_features)):         \n",
    "            K2,A1,A2,y_hat = forward_prop(W1,W2,W3,train_data_features[j])\n",
    "            W1,W2,W3,loss=optimise(K2,A1,A2,W1,W2,W3,y_hat,train_data_target[j],train_data_features[j],learning_rate) \n",
    "        \n",
    "        print(\"The Loss after \" +str(i)+ \" epochs: \", loss )\n",
    "        loss_list.append(loss)\n",
    "        #print (\"loss list:\", loss_list)\n",
    "    return W1,W2,W3,loss_list\n",
    "        \n",
    "        \n"
   ]
  },
  {
   "cell_type": "code",
   "execution_count": 136,
   "metadata": {
    "scrolled": false
   },
   "outputs": [
    {
     "name": "stdout",
     "output_type": "stream",
     "text": [
      "The Loss after 1 epochs:  0.502944953562907\n",
      "The Loss after 2 epochs:  0.5001060386543216\n",
      "The Loss after 3 epochs:  0.5004793272842332\n",
      "The Loss after 4 epochs:  0.5004666514427821\n",
      "The Loss after 5 epochs:  0.5000369271319016\n",
      "The Loss after 6 epochs:  0.5002332821230151\n",
      "The Loss after 7 epochs:  0.5002222057191594\n",
      "The Loss after 8 epochs:  0.5001445833254887\n",
      "The Loss after 9 epochs:  0.5000592044451054\n",
      "The Loss after 10 epochs:  0.5000053145709947\n",
      "The Loss after 11 epochs:  0.5000001095074638\n",
      "The Loss after 12 epochs:  0.5000553606643865\n",
      "The Loss after 13 epochs:  0.5001759751231271\n",
      "The Loss after 14 epochs:  0.5000001787633556\n",
      "The Loss after 15 epochs:  0.5000110941259811\n",
      "The Loss after 16 epochs:  0.5000178943251944\n",
      "The Loss after 17 epochs:  0.5000104111793005\n",
      "The Loss after 18 epochs:  0.5000460016283762\n",
      "The Loss after 19 epochs:  0.5000024036032563\n",
      "The Loss after 20 epochs:  0.5000355493043681\n",
      "The Loss after 21 epochs:  0.5000361582435189\n",
      "The Loss after 22 epochs:  0.5000003713129737\n",
      "The Loss after 23 epochs:  0.5000242229501359\n",
      "The Loss after 24 epochs:  0.500001104274436\n",
      "The Loss after 25 epochs:  0.5000004696437184\n",
      "The Loss after 26 epochs:  0.5000112744600108\n",
      "The Loss after 27 epochs:  0.5000237984778201\n",
      "The Loss after 28 epochs:  0.5000023703687271\n",
      "The Loss after 29 epochs:  0.5000025274219931\n",
      "The Loss after 30 epochs:  0.5000010980825558\n",
      "The Loss after 31 epochs:  0.5000019645959052\n",
      "The Loss after 32 epochs:  0.5000010823224382\n",
      "The Loss after 33 epochs:  0.5000024630765442\n",
      "The Loss after 34 epochs:  0.500004615708277\n",
      "The Loss after 35 epochs:  0.5000002154108061\n",
      "The Loss after 36 epochs:  0.500001710834014\n",
      "The Loss after 37 epochs:  0.5000038125152814\n",
      "The Loss after 38 epochs:  0.5000031495572944\n",
      "The Loss after 39 epochs:  0.5000001132202602\n",
      "The Loss after 40 epochs:  0.500001687799887\n",
      "The Loss after 41 epochs:  0.500000623640427\n",
      "The Loss after 42 epochs:  0.5000001279596515\n",
      "The Loss after 43 epochs:  0.5000005911105367\n",
      "The Loss after 44 epochs:  0.500000426843753\n",
      "The Loss after 45 epochs:  0.5000010597672839\n",
      "The Loss after 46 epochs:  0.5000000042799798\n",
      "The Loss after 47 epochs:  0.5000004736153028\n",
      "The Loss after 48 epochs:  0.5000004037342686\n",
      "The Loss after 49 epochs:  0.5000001454991966\n",
      "Final Wts 1: (3, 2)\n",
      "Final Wts 2: (3, 3)\n",
      "Final Wts 3: (2, 3)\n"
     ]
    }
   ],
   "source": [
    "W1_final, W2_final, W3_final, loss_list = train(train_data_features,train_data_target)\n",
    "print (\"Final Wts 1:\", W1_final.shape)\n",
    "print (\"Final Wts 2:\", W2_final.shape)\n",
    "print (\"Final Wts 3:\", W3_final.shape)\n",
    "\n",
    "## Divide final weights by 2/3 \n",
    "multiply_mat_1 = np.full((3, 2), 0.67)\n",
    "multiply_mat_2 = np.full((3, 3), 0.67)\n",
    "multiply_mat_3 = np.full((2, 3), 0.67)\n",
    "\n",
    "W1_final = np.array(W1_final) * multiply_mat_1\n",
    "W2_final = np.array(W2_final) * multiply_mat_2\n",
    "W3_final = np.array(W3_final) * multiply_mat_3\n",
    "\n"
   ]
  },
  {
   "cell_type": "code",
   "execution_count": null,
   "metadata": {},
   "outputs": [],
   "source": [
    "print (loss_list)"
   ]
  },
  {
   "cell_type": "code",
   "execution_count": 137,
   "metadata": {
    "scrolled": true
   },
   "outputs": [
    {
     "data": {
      "text/plain": [
       "Text(0, 0.5, 'loss')"
      ]
     },
     "execution_count": 137,
     "metadata": {},
     "output_type": "execute_result"
    },
    {
     "data": {
      "image/png": "[encoded data removed]",
      "text/plain": [
       "<Figure size 432x288 with 1 Axes>"
      ]
     },
     "metadata": {
      "needs_background": "light"
     },
     "output_type": "display_data"
    }
   ],
   "source": [
    "x = np.linspace(0,49,49)\n",
    "y = loss_list\n",
    "plt.plot(x,y)\n",
    "plt.xlabel('epochs')\n",
    "plt.ylabel('loss')\n"
   ]
  },
  {
   "cell_type": "code",
   "execution_count": 138,
   "metadata": {},
   "outputs": [
    {
     "name": "stdout",
     "output_type": "stream",
     "text": [
      "precision: 0.4898785425101215\n",
      "recall: 0.484\n",
      "F1 score: 0.24346076458752516\n"
     ]
    }
   ],
   "source": [
    "from sklearn import metrics\n",
    "true_val = []\n",
    "pred_val = []\n",
    "     \n",
    "for j in range(len(X_test)):\n",
    "    K2,A1,A2,y_hat = forward_prop(W1_final,W2_final,W3_final,X_test[j])   \n",
    "    y_hat = np.squeeze(np.asarray(y_hat))\n",
    "    y_true = Y_test[j]\n",
    "    y_true = np.squeeze(np.asarray(y_true))\n",
    "\n",
    "    if y_true == 1:\n",
    "        true_val.append(\"1\")\n",
    "    else:\n",
    "        true_val.append(\"0\")\n",
    "\n",
    "    if y_hat[0] >y_hat[1]:\n",
    "        pred_val.append(\"1\")\n",
    "\n",
    "    else:\n",
    "        pred_val.append(\"0\")\n",
    "\n",
    "confusion_matric = confusion_matrix(true_val, pred_val)\n",
    "tn, fp, fn, tp = confusion_matric.ravel()\n",
    "#print (tn, fp, fn, tp)\n",
    "\n",
    "precision = tp/(tp + fp)\n",
    "recall = tp/(tp + fn)\n",
    "f1_score = (precision * recall)/(precision + recall)\n",
    "print (\"precision:\", precision)\n",
    "print (\"recall:\", recall)\n",
    "print (\"F1 score:\", f1_score)\n",
    "    \n",
    "\n",
    "\n",
    "\n"
   ]
  },
  {
   "cell_type": "code",
   "execution_count": null,
   "metadata": {},
   "outputs": [],
   "source": [
    "# observations after changing to RELU activaion and adding drop outs\n",
    "New precision recall values are 49 percent and 48 percent respectively.\n",
    "The loss vs epoch graph is also showing some fluctuations with increase in epochs."
   ]
  }
 ],
 "metadata": {
  "kernelspec": {
   "display_name": "Python 3",
   "language": "python",
   "name": "python3"
  },
  "language_info": {
   "codemirror_mode": {
    "name": "ipython",
    "version": 3
   },
   "file_extension": ".py",
   "mimetype": "text/x-python",
   "name": "python",
   "nbconvert_exporter": "python",
   "pygments_lexer": "ipython3",
   "version": "3.7.3"
  }
 },
 "nbformat": 4,
 "nbformat_minor": 2
}
